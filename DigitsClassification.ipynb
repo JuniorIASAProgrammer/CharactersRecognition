{
 "cells": [
  {
   "cell_type": "markdown",
   "metadata": {},
   "source": [
    "### Digits classification"
   ]
  },
  {
   "cell_type": "code",
   "execution_count": 1,
   "metadata": {},
   "outputs": [
    {
     "name": "stderr",
     "output_type": "stream",
     "text": [
      "<ipython-input-1-92bd49c82e91>:13: DeprecationWarning: `import kerastuner` is deprecated, please use `import keras_tuner`.\n",
      "  from kerastuner import RandomSearch\n"
     ]
    }
   ],
   "source": [
    "import tensorflow as tf\n",
    "import tensorflow_addons as tfa\n",
    "import pandas as pd\n",
    "import numpy as np\n",
    "import matplotlib.pyplot as plt\n",
    "\n",
    "from keras.callbacks import TensorBoard\n",
    "\n",
    "%load_ext tensorboard\n",
    "\n",
    "from keras import Sequential\n",
    "from keras.layers import Dense, Dropout, BatchNormalization, Conv2D, Flatten, MaxPooling2D\n",
    "\n",
    "import os\n",
    "from tensorflow.keras.preprocessing.image import load_img, img_to_array\n",
    "\n",
    "\n",
    "from sklearn.model_selection import train_test_split\n",
    "from sklearn import metrics\n",
    "import seaborn as sn"
   ]
  },
  {
   "cell_type": "code",
   "execution_count": 2,
   "metadata": {},
   "outputs": [],
   "source": [
    "directory = 'Img'\n",
    "files=os.listdir(directory)\n",
    "\n",
    "images = []\n",
    "for file in files:\n",
    "    image=load_img(os.path.join(directory,file), grayscale=False, color_mode='rgb', target_size=(64,64))\n",
    "    image = img_to_array(image)/255\n",
    "    images.append(image)\n",
    "X = np.array(images)\n",
    "engl=pd.read_csv('english.csv')\n",
    "y_char = np.array(engl['label'])\n",
    "y = pd.factorize(y_char)[0]"
   ]
  },
  {
   "cell_type": "code",
   "execution_count": 3,
   "metadata": {},
   "outputs": [],
   "source": [
    "X_train_pic, X_test_pic, y_train_pic, y_test_pic = train_test_split(X, y, test_size=0.1, stratify=y)"
   ]
  },
  {
   "cell_type": "code",
   "execution_count": 4,
   "metadata": {},
   "outputs": [
    {
     "data": {
      "text/plain": [
       "(64, 64, 3)"
      ]
     },
     "execution_count": 4,
     "metadata": {},
     "output_type": "execute_result"
    }
   ],
   "source": [
    "X_train_pic[0].shape"
   ]
  },
  {
   "cell_type": "code",
   "execution_count": 5,
   "metadata": {},
   "outputs": [
    {
     "name": "stdout",
     "output_type": "stream",
     "text": [
      "59\n"
     ]
    },
    {
     "data": {
      "text/plain": [
       "<matplotlib.image.AxesImage at 0x22dbad4fcd0>"
      ]
     },
     "execution_count": 5,
     "metadata": {},
     "output_type": "execute_result"
    },
    {
     "data": {
      "image/png": "[encoded data removed]",
      "text/plain": [
       "<Figure size 432x288 with 1 Axes>"
      ]
     },
     "metadata": {
      "needs_background": "light"
     },
     "output_type": "display_data"
    }
   ],
   "source": [
    "ind = 1\n",
    "print(y_test_pic[ind])\n",
    "plt.imshow(X_test_pic[ind], cmap='binary')"
   ]
  },
  {
   "cell_type": "code",
   "execution_count": 6,
   "metadata": {},
   "outputs": [],
   "source": [
    "X_train_pic = X_train_pic.reshape(X_train_pic.shape[0], 64 , 64 , 3)\n",
    "X_test_pic = X_test_pic.reshape(X_test_pic.shape[0], 64 , 64 , 3)\n",
    "y_train_pic = tf.keras.utils.to_categorical(y_train_pic, 62)\n",
    "y_test_pic = tf.keras.utils.to_categorical(y_test_pic, 62)"
   ]
  },
  {
   "cell_type": "code",
   "execution_count": 7,
   "metadata": {},
   "outputs": [
    {
     "data": {
      "text/plain": [
       "((3069, 64, 64, 3), (341, 64, 64, 3), (3069, 62), (341, 62))"
      ]
     },
     "execution_count": 7,
     "metadata": {},
     "output_type": "execute_result"
    }
   ],
   "source": [
    "X_train_pic.shape, X_test_pic.shape, y_train_pic.shape, y_test_pic.shape"
   ]
  },
  {
   "cell_type": "code",
   "execution_count": 9,
   "metadata": {},
   "outputs": [
    {
     "name": "stdout",
     "output_type": "stream",
     "text": [
      "Epoch 1/10\n",
      "77/77 [==============================] - 11s 134ms/step - loss: 4.6468 - accuracy: 0.0896 - val_loss: 3.0682 - val_accuracy: 0.2020\n",
      "Epoch 2/10\n",
      "77/77 [==============================] - 10s 124ms/step - loss: 2.2429 - accuracy: 0.3992 - val_loss: 2.2301 - val_accuracy: 0.3730\n",
      "Epoch 3/10\n",
      "77/77 [==============================] - 9s 117ms/step - loss: 1.2616 - accuracy: 0.6464 - val_loss: 1.9262 - val_accuracy: 0.4886\n",
      "Epoch 4/10\n",
      "77/77 [==============================] - 9s 122ms/step - loss: 0.6817 - accuracy: 0.8045 - val_loss: 1.9815 - val_accuracy: 0.4772\n",
      "Epoch 5/10\n",
      "77/77 [==============================] - 10s 125ms/step - loss: 0.3698 - accuracy: 0.8974 - val_loss: 2.2220 - val_accuracy: 0.4739\n",
      "Epoch 6/10\n",
      "77/77 [==============================] - 9s 122ms/step - loss: 0.1919 - accuracy: 0.9389 - val_loss: 2.4945 - val_accuracy: 0.4984\n",
      "Epoch 7/10\n",
      "77/77 [==============================] - 9s 117ms/step - loss: 0.1241 - accuracy: 0.9678 - val_loss: 2.4895 - val_accuracy: 0.4967\n",
      "Epoch 8/10\n",
      "77/77 [==============================] - 9s 118ms/step - loss: 0.0808 - accuracy: 0.9772 - val_loss: 3.3463 - val_accuracy: 0.4642\n",
      "Epoch 9/10\n",
      "77/77 [==============================] - 9s 119ms/step - loss: 0.0558 - accuracy: 0.9821 - val_loss: 2.8571 - val_accuracy: 0.5309\n",
      "Epoch 10/10\n",
      "77/77 [==============================] - 9s 120ms/step - loss: 0.0394 - accuracy: 0.9866 - val_loss: 3.1380 - val_accuracy: 0.5342\n"
     ]
    }
   ],
   "source": [
    "# Базова згорткова модель з одним згортковим шаром\n",
    "\n",
    "simple_model = Sequential()\n",
    "simple_model.add(Conv2D(32, (5,5), activation='relu', input_shape=(64, 64, 3)))\n",
    "simple_model.add(MaxPooling2D(2, 2))\n",
    "simple_model.add(Flatten())\n",
    "simple_model.add(Dense(units=512, activation='relu'))\n",
    "simple_model.add(Dense(units=256, activation='relu'))\n",
    "simple_model.add(Dense(units=62, activation='softmax'))\n",
    "\n",
    "simple_model.compile(\n",
    "    optimizer=\"rmsprop\", \n",
    "    loss='categorical_crossentropy', \n",
    "    metrics=[\"accuracy\"]\n",
    ")\n",
    "\n",
    "history = simple_model.fit(X_train_pic, y_train_pic, epochs=10, validation_split=0.2, callbacks=[TensorBoard(log_dir=f\"logs/kaggle/simple\")], verbose=1)\n",
    "\n",
    "# За отриманих результатів бачимо явне перенавчання"
   ]
  },
  {
   "cell_type": "code",
   "execution_count": 10,
   "metadata": {},
   "outputs": [
    {
     "name": "stdout",
     "output_type": "stream",
     "text": [
      "Epoch 1/60\n",
      "77/77 [==============================] - 9s 109ms/step - loss: 4.1762 - accuracy: 0.0175 - val_loss: 4.1288 - val_accuracy: 0.0147\n",
      "Epoch 2/60\n",
      "77/77 [==============================] - 8s 104ms/step - loss: 4.0092 - accuracy: 0.0420 - val_loss: 4.0938 - val_accuracy: 0.0505\n",
      "Epoch 3/60\n",
      "77/77 [==============================] - 8s 98ms/step - loss: 3.7539 - accuracy: 0.0745 - val_loss: 4.0097 - val_accuracy: 0.1042\n",
      "Epoch 4/60\n",
      "77/77 [==============================] - 8s 99ms/step - loss: 3.4125 - accuracy: 0.1259 - val_loss: 3.5878 - val_accuracy: 0.2427\n",
      "Epoch 5/60\n",
      "77/77 [==============================] - 8s 98ms/step - loss: 3.0713 - accuracy: 0.1711 - val_loss: 2.9501 - val_accuracy: 0.3632\n",
      "Epoch 6/60\n",
      "77/77 [==============================] - 8s 98ms/step - loss: 2.7277 - accuracy: 0.2432 - val_loss: 2.5841 - val_accuracy: 0.4300\n",
      "Epoch 7/60\n",
      "77/77 [==============================] - 8s 99ms/step - loss: 2.4651 - accuracy: 0.2965 - val_loss: 2.0573 - val_accuracy: 0.5049\n",
      "Epoch 8/60\n",
      "77/77 [==============================] - 8s 98ms/step - loss: 2.2222 - accuracy: 0.3629 - val_loss: 1.7264 - val_accuracy: 0.5814\n",
      "Epoch 9/60\n",
      "77/77 [==============================] - 8s 99ms/step - loss: 1.9990 - accuracy: 0.3976 - val_loss: 1.4886 - val_accuracy: 0.6221\n",
      "Epoch 10/60\n",
      "77/77 [==============================] - 8s 99ms/step - loss: 1.8862 - accuracy: 0.4322 - val_loss: 1.2738 - val_accuracy: 0.6482\n",
      "Epoch 11/60\n",
      "77/77 [==============================] - 8s 99ms/step - loss: 1.6815 - accuracy: 0.4741 - val_loss: 1.1549 - val_accuracy: 0.6629\n",
      "Epoch 12/60\n",
      "77/77 [==============================] - 8s 98ms/step - loss: 1.5694 - accuracy: 0.5018 - val_loss: 1.0901 - val_accuracy: 0.6857\n",
      "Epoch 13/60\n",
      "77/77 [==============================] - 8s 98ms/step - loss: 1.4566 - accuracy: 0.5430 - val_loss: 1.1054 - val_accuracy: 0.6808\n",
      "Epoch 14/60\n",
      "77/77 [==============================] - 8s 98ms/step - loss: 1.3916 - accuracy: 0.5629 - val_loss: 0.9170 - val_accuracy: 0.7394\n",
      "Epoch 15/60\n",
      "77/77 [==============================] - 8s 98ms/step - loss: 1.3094 - accuracy: 0.5857 - val_loss: 0.9143 - val_accuracy: 0.7329\n",
      "Epoch 16/60\n",
      "77/77 [==============================] - 8s 98ms/step - loss: 1.2143 - accuracy: 0.6061 - val_loss: 0.8906 - val_accuracy: 0.7394\n",
      "Epoch 17/60\n",
      "77/77 [==============================] - 8s 98ms/step - loss: 1.1948 - accuracy: 0.6110 - val_loss: 0.8577 - val_accuracy: 0.7394\n",
      "Epoch 18/60\n",
      "77/77 [==============================] - 8s 98ms/step - loss: 1.1030 - accuracy: 0.6305 - val_loss: 0.8560 - val_accuracy: 0.7427\n",
      "Epoch 19/60\n",
      "77/77 [==============================] - 8s 99ms/step - loss: 1.0936 - accuracy: 0.6464 - val_loss: 0.8130 - val_accuracy: 0.7427\n",
      "Epoch 20/60\n",
      "77/77 [==============================] - 8s 98ms/step - loss: 1.0318 - accuracy: 0.6619 - val_loss: 0.8099 - val_accuracy: 0.7655\n",
      "Epoch 21/60\n",
      "77/77 [==============================] - 8s 98ms/step - loss: 0.9899 - accuracy: 0.6721 - val_loss: 0.7613 - val_accuracy: 0.7866\n",
      "Epoch 22/60\n",
      "77/77 [==============================] - 8s 98ms/step - loss: 0.9444 - accuracy: 0.6835 - val_loss: 0.7563 - val_accuracy: 0.7752\n",
      "Epoch 23/60\n",
      "77/77 [==============================] - 8s 98ms/step - loss: 0.9046 - accuracy: 0.7006 - val_loss: 0.7461 - val_accuracy: 0.7671\n",
      "Epoch 24/60\n",
      "77/77 [==============================] - 8s 98ms/step - loss: 0.9287 - accuracy: 0.6766 - val_loss: 0.7053 - val_accuracy: 0.7834\n",
      "Epoch 25/60\n",
      "77/77 [==============================] - 8s 100ms/step - loss: 0.8233 - accuracy: 0.7136 - val_loss: 0.7145 - val_accuracy: 0.7769\n",
      "Epoch 26/60\n",
      "77/77 [==============================] - 8s 102ms/step - loss: 0.8900 - accuracy: 0.7059 - val_loss: 0.7505 - val_accuracy: 0.7769\n",
      "Epoch 27/60\n",
      "77/77 [==============================] - 8s 101ms/step - loss: 0.7989 - accuracy: 0.7295 - val_loss: 0.6957 - val_accuracy: 0.7964\n",
      "Epoch 28/60\n",
      "77/77 [==============================] - 7s 97ms/step - loss: 0.7706 - accuracy: 0.7344 - val_loss: 0.6956 - val_accuracy: 0.7785\n",
      "Epoch 29/60\n",
      "77/77 [==============================] - 7s 97ms/step - loss: 0.7407 - accuracy: 0.7405 - val_loss: 0.6815 - val_accuracy: 0.7883\n",
      "Epoch 30/60\n",
      "77/77 [==============================] - 7s 97ms/step - loss: 0.7504 - accuracy: 0.7360 - val_loss: 0.6913 - val_accuracy: 0.7834\n",
      "Epoch 31/60\n",
      "77/77 [==============================] - 7s 97ms/step - loss: 0.7085 - accuracy: 0.7560 - val_loss: 0.6904 - val_accuracy: 0.7980\n",
      "Epoch 32/60\n",
      "77/77 [==============================] - 7s 97ms/step - loss: 0.6841 - accuracy: 0.7678 - val_loss: 0.7269 - val_accuracy: 0.7622\n",
      "Epoch 33/60\n",
      "77/77 [==============================] - 7s 96ms/step - loss: 0.6419 - accuracy: 0.7719 - val_loss: 0.7626 - val_accuracy: 0.7818\n",
      "Epoch 34/60\n",
      "77/77 [==============================] - 7s 97ms/step - loss: 0.6610 - accuracy: 0.7760 - val_loss: 0.7513 - val_accuracy: 0.7866\n",
      "Epoch 35/60\n",
      "77/77 [==============================] - 7s 97ms/step - loss: 0.6461 - accuracy: 0.7666 - val_loss: 0.6719 - val_accuracy: 0.7948\n",
      "Epoch 36/60\n",
      "77/77 [==============================] - 7s 97ms/step - loss: 0.6468 - accuracy: 0.7776 - val_loss: 0.7436 - val_accuracy: 0.7752\n",
      "Epoch 37/60\n",
      "77/77 [==============================] - 7s 97ms/step - loss: 0.5967 - accuracy: 0.7947 - val_loss: 0.7146 - val_accuracy: 0.8013\n",
      "Epoch 38/60\n",
      "77/77 [==============================] - 7s 97ms/step - loss: 0.5843 - accuracy: 0.7910 - val_loss: 0.7203 - val_accuracy: 0.7818\n",
      "Epoch 39/60\n",
      "77/77 [==============================] - 7s 97ms/step - loss: 0.5947 - accuracy: 0.7935 - val_loss: 0.7306 - val_accuracy: 0.7834\n",
      "Epoch 40/60\n",
      "77/77 [==============================] - 7s 97ms/step - loss: 0.5759 - accuracy: 0.7971 - val_loss: 0.7043 - val_accuracy: 0.7932\n",
      "Epoch 41/60\n",
      "77/77 [==============================] - 7s 97ms/step - loss: 0.5399 - accuracy: 0.8045 - val_loss: 0.7577 - val_accuracy: 0.7899\n",
      "Epoch 42/60\n",
      "77/77 [==============================] - 7s 97ms/step - loss: 0.5321 - accuracy: 0.8159 - val_loss: 0.7034 - val_accuracy: 0.7964\n",
      "Epoch 43/60\n",
      "77/77 [==============================] - 7s 97ms/step - loss: 0.5524 - accuracy: 0.7992 - val_loss: 0.7181 - val_accuracy: 0.7850\n",
      "Epoch 44/60\n",
      "77/77 [==============================] - 7s 97ms/step - loss: 0.5260 - accuracy: 0.8094 - val_loss: 0.7464 - val_accuracy: 0.7932\n",
      "Epoch 45/60\n",
      "77/77 [==============================] - 7s 97ms/step - loss: 0.4946 - accuracy: 0.8253 - val_loss: 0.7258 - val_accuracy: 0.7932\n",
      "Epoch 46/60\n",
      "77/77 [==============================] - 7s 97ms/step - loss: 0.4847 - accuracy: 0.8277 - val_loss: 0.7662 - val_accuracy: 0.8013\n",
      "Epoch 47/60\n",
      "77/77 [==============================] - 7s 97ms/step - loss: 0.4925 - accuracy: 0.8248 - val_loss: 0.8323 - val_accuracy: 0.7801\n",
      "Epoch 48/60\n",
      "77/77 [==============================] - 7s 97ms/step - loss: 0.4772 - accuracy: 0.8265 - val_loss: 0.7590 - val_accuracy: 0.8127\n",
      "Epoch 49/60\n",
      "77/77 [==============================] - 7s 97ms/step - loss: 0.4678 - accuracy: 0.8330 - val_loss: 0.7680 - val_accuracy: 0.7915\n",
      "Epoch 50/60\n",
      "77/77 [==============================] - 7s 97ms/step - loss: 0.4400 - accuracy: 0.8460 - val_loss: 0.7872 - val_accuracy: 0.8029\n",
      "Epoch 51/60\n",
      "77/77 [==============================] - 7s 97ms/step - loss: 0.4240 - accuracy: 0.8517 - val_loss: 0.7810 - val_accuracy: 0.7948\n",
      "Epoch 52/60\n",
      "77/77 [==============================] - 7s 97ms/step - loss: 0.4602 - accuracy: 0.8367 - val_loss: 0.7807 - val_accuracy: 0.7980\n",
      "Epoch 53/60\n",
      "77/77 [==============================] - 7s 97ms/step - loss: 0.4683 - accuracy: 0.8310 - val_loss: 0.7387 - val_accuracy: 0.8225\n",
      "Epoch 54/60\n",
      "77/77 [==============================] - 7s 97ms/step - loss: 0.4335 - accuracy: 0.8468 - val_loss: 0.7865 - val_accuracy: 0.8013\n",
      "Epoch 55/60\n",
      "77/77 [==============================] - 7s 96ms/step - loss: 0.4358 - accuracy: 0.8432 - val_loss: 0.8606 - val_accuracy: 0.7997\n",
      "Epoch 56/60\n",
      "77/77 [==============================] - 7s 96ms/step - loss: 0.4550 - accuracy: 0.8383 - val_loss: 0.7530 - val_accuracy: 0.8078\n",
      "Epoch 57/60\n",
      "77/77 [==============================] - 7s 97ms/step - loss: 0.4269 - accuracy: 0.8456 - val_loss: 0.7643 - val_accuracy: 0.8160\n",
      "Epoch 58/60\n",
      "77/77 [==============================] - 7s 97ms/step - loss: 0.4056 - accuracy: 0.8603 - val_loss: 0.7865 - val_accuracy: 0.8160\n",
      "Epoch 59/60\n",
      "77/77 [==============================] - 7s 97ms/step - loss: 0.3796 - accuracy: 0.8615 - val_loss: 0.8024 - val_accuracy: 0.8046\n",
      "Epoch 60/60\n",
      "77/77 [==============================] - 8s 99ms/step - loss: 0.3861 - accuracy: 0.8697 - val_loss: 0.8669 - val_accuracy: 0.8127\n"
     ]
    }
   ],
   "source": [
    "# Розширені моделі із Dropout та BatchNormalization\n",
    "\n",
    "batch_dropout_model = Sequential([\n",
    "    BatchNormalization(input_shape=(64, 64, 3)),\n",
    "    Conv2D(32, (3,3), padding='same', activation='relu'),\n",
    "    MaxPooling2D((2, 2), strides=2),\n",
    "\n",
    "    BatchNormalization(),\n",
    "    Conv2D(64, (3,3), padding='same', activation='relu'),\n",
    "    MaxPooling2D((2, 2), strides=2),\n",
    "    Dropout(0.5),\n",
    "    \n",
    "    Conv2D(128, (3,3), padding='same', activation='relu'),\n",
    "    MaxPooling2D((2, 2), strides=2),\n",
    "\n",
    "    Conv2D(128, (3,3), padding='same', activation='relu'),\n",
    "    MaxPooling2D((2, 2), strides=2),\n",
    "\n",
    "    Flatten(),\n",
    "    Dense(160, activation='relu'), \n",
    "    Dropout(0.5),\n",
    "    Dense(62, activation='softmax')\n",
    "])\n",
    "\n",
    "batch_dropout_model.compile(\n",
    "    optimizer=\"adam\", \n",
    "    loss='categorical_crossentropy', \n",
    "    metrics=[\"accuracy\"]\n",
    ")\n",
    "\n",
    "history = batch_dropout_model.fit(X_train_pic, y_train_pic, epochs=60, validation_split=0.2, callbacks=[TensorBoard(log_dir=f\"logs/kaggle/4Conv_layer\")], verbose=1)"
   ]
  },
  {
   "cell_type": "code",
   "execution_count": 11,
   "metadata": {},
   "outputs": [
    {
     "name": "stdout",
     "output_type": "stream",
     "text": [
      "11/11 [==============================] - 0s 21ms/step - loss: 0.6595 - accuracy: 0.8006\n",
      "same : [0.6595127582550049, 0.8005865216255188]\n",
      "11/11 [==============================] - 0s 17ms/step - loss: 0.8647 - accuracy: 0.8123\n",
      "valid : [0.8646625280380249, 0.8123167157173157]\n"
     ]
    }
   ],
   "source": [
    "# Дослідити вплив параметра padding\n",
    "\n",
    "for padding in ['same', 'valid']:\n",
    "    model = Sequential([\n",
    "    BatchNormalization(input_shape=(64, 64, 3)),\n",
    "    Conv2D(32, (3,3), padding=padding, activation='relu'),\n",
    "    MaxPooling2D((2, 2), strides=2),\n",
    "\n",
    "    BatchNormalization(),\n",
    "    Conv2D(64, (3,3), padding=padding, activation='relu'),\n",
    "    MaxPooling2D((2, 2), strides=2),\n",
    "    Dropout(0.5),\n",
    "    \n",
    "    Conv2D(128, (3,3), padding=padding, activation='relu'),\n",
    "    MaxPooling2D((2, 2), strides=2),\n",
    "\n",
    "    Conv2D(128, (3,3), padding=padding, activation='relu'),\n",
    "    MaxPooling2D((2, 2), strides=2),\n",
    "\n",
    "    Flatten(),\n",
    "    Dense(160, activation='relu'), \n",
    "    Dropout(0.5),\n",
    "    Dense(62, activation='softmax')\n",
    "    ])\n",
    "\n",
    "    model.compile(\n",
    "        optimizer=\"adam\", \n",
    "        loss='categorical_crossentropy', \n",
    "        metrics=[\"accuracy\"]\n",
    "    )\n",
    "\n",
    "    history = model.fit(X_train_pic, y_train_pic, epochs=50, validation_split=0.2, callbacks=[TensorBoard(log_dir=f\"logs/kaggle/4Conv_layer_with_padding_{padding}\")], verbose=0)\n",
    "    print(f\"{padding} : {model.evaluate(X_test_pic, y_test_pic)}\")\n",
    "\n",
    "# У цілому різниця незначна, хоча зі значенням valid отримали трохи вищий показник точності"
   ]
  },
  {
   "cell_type": "code",
   "execution_count": 14,
   "metadata": {},
   "outputs": [
    {
     "name": "stdout",
     "output_type": "stream",
     "text": [
      "11/11 [==============================] - 0s 23ms/step - loss: 0.7774 - accuracy: 0.8006\n",
      "Stride 2 : test - [0.7774229645729065, 0.8005865216255188]\n",
      "11/11 [==============================] - 0s 13ms/step - loss: 0.9604 - accuracy: 0.7331\n",
      "Stride 3 : test - [0.9604408144950867, 0.733137845993042]\n"
     ]
    }
   ],
   "source": [
    "# Дослідити вплив параметра stride\n",
    "\n",
    "for stride in [2, 3]:\n",
    "    model = Sequential([\n",
    "    BatchNormalization(input_shape=(64, 64, 3)),\n",
    "    Conv2D(32, (3,3), padding='same', activation='relu'),\n",
    "    MaxPooling2D((2, 2), strides=stride),\n",
    "\n",
    "    BatchNormalization(),\n",
    "    Conv2D(64, (3,3), padding='same', activation='relu'),\n",
    "    MaxPooling2D((2, 2), strides=stride),\n",
    "    Dropout(0.5),\n",
    "    \n",
    "    Conv2D(128, (3,3), padding='same', activation='relu'),\n",
    "    MaxPooling2D((2, 2), strides=stride),\n",
    "\n",
    "    Conv2D(128, (3,3), padding='same', activation='relu'),\n",
    "    MaxPooling2D((2, 2), strides=stride),\n",
    "\n",
    "    Flatten(),\n",
    "    Dense(160, activation='relu'), \n",
    "    Dropout(0.5),\n",
    "    Dense(62, activation='softmax')\n",
    "    ])\n",
    "\n",
    "    model.compile(\n",
    "        optimizer=\"adam\", \n",
    "        loss='categorical_crossentropy', \n",
    "        metrics=[\"accuracy\"]\n",
    "    )\n",
    "\n",
    "    history = model.fit(X_train_pic, y_train_pic, epochs=50, validation_split=0.2, callbacks=[TensorBoard(log_dir=f\"logs/kaggle/4Conv_layer_with_stride_{stride}\")], verbose=0)\n",
    "    print(f\"Stride {stride} : test - {model.evaluate(X_test_pic, y_test_pic)}\")\n",
    "\n",
    "# Для параметра stride = 2 бачимо вищий показник точності"
   ]
  },
  {
   "cell_type": "code",
   "execution_count": 15,
   "metadata": {},
   "outputs": [
    {
     "name": "stdout",
     "output_type": "stream",
     "text": [
      "11/11 [==============================] - 0s 16ms/step - loss: 0.8285 - accuracy: 0.7625\n",
      "Kernel size 2 : [0.8284952640533447, 0.7624633312225342]\n",
      "11/11 [==============================] - 0s 22ms/step - loss: 0.8799 - accuracy: 0.7771\n",
      "Kernel size 3 : [0.8799195885658264, 0.7771260738372803]\n",
      "11/11 [==============================] - 0s 28ms/step - loss: 1.0851 - accuracy: 0.7947\n",
      "Kernel size 4 : [1.0851237773895264, 0.7947214245796204]\n"
     ]
    }
   ],
   "source": [
    "# Дослідити вплив розмірності ядра згортки\n",
    "\n",
    "for kernel_size in [2, 3, 4]:\n",
    "    model = Sequential([\n",
    "    BatchNormalization(input_shape=(64, 64, 3)),\n",
    "    Conv2D(32, (kernel_size,kernel_size), padding='same', activation='relu'),\n",
    "    MaxPooling2D((2, 2), strides=2),\n",
    "\n",
    "    BatchNormalization(),\n",
    "    Conv2D(64, (kernel_size,kernel_size), padding='same', activation='relu'),\n",
    "    MaxPooling2D((2, 2), strides=2),\n",
    "    Dropout(0.5),\n",
    "    \n",
    "    Conv2D(128, (kernel_size,kernel_size), padding='same', activation='relu'),\n",
    "    MaxPooling2D((2, 2), strides=2),\n",
    "\n",
    "    Conv2D(128, (kernel_size,kernel_size), padding='same', activation='relu'),\n",
    "    MaxPooling2D((2, 2), strides=2),\n",
    "\n",
    "    Flatten(),\n",
    "    Dense(160, activation='relu'), \n",
    "    Dropout(0.5),\n",
    "    Dense(62, activation='softmax')\n",
    "    ])\n",
    "\n",
    "    model.compile(\n",
    "        optimizer=\"adam\", \n",
    "        loss='categorical_crossentropy', \n",
    "        metrics=[\"accuracy\"]\n",
    "    )\n",
    "\n",
    "    history = model.fit(X_train_pic, y_train_pic, epochs=50, validation_split=0.2, callbacks=[TensorBoard(log_dir=f\"logs/kaggle/4Conv_layer_with_kernersize_{kernel_size}\")], verbose=0)\n",
    "    print(f\"Kernel size {kernel_size} : {model.evaluate(X_test_pic, y_test_pic)}\")\n",
    "\n",
    "# Результати точності відрізняються, найкраще показала себе згортка з розміром ядра 4"
   ]
  },
  {
   "cell_type": "code",
   "execution_count": 16,
   "metadata": {},
   "outputs": [],
   "source": [
    "# Завантажити зображення тестової множни i розпiзнати його навченими моделями.\n",
    "\n",
    "predicted = batch_dropout_model.predict(X_test_pic)"
   ]
  },
  {
   "cell_type": "code",
   "execution_count": 35,
   "metadata": {},
   "outputs": [
    {
     "data": {
      "image/png": "[encoded data removed]",
      "text/plain": [
       "<Figure size 1440x1440 with 16 Axes>"
      ]
     },
     "metadata": {},
     "output_type": "display_data"
    }
   ],
   "source": [
    "fig = plt.figure(figsize=(20, 20))  # figure size in inches\n",
    "fig.subplots_adjust(left=0, right=1, bottom=0, top=1, hspace=0.05, wspace=0.05)\n",
    "\n",
    "# plot the digits: each image is 64x64 pixels\n",
    "for i in range(16):\n",
    "    ax = fig.add_subplot(4, 4, i + 1, xticks=[], yticks=[])\n",
    "    ax.imshow(X_test_pic[i], cmap='binary')\n",
    "    pred = np.argmax(predicted[i])\n",
    "    exp = np.argmax(y_test_pic[i])\n",
    "\n",
    "    # label the image with the target value\n",
    "    if pred == exp:\n",
    "        ax.text(0, 7, str(pred), color='green')\n",
    "    else:\n",
    "        ax.text(0, 7, str(pred), color='red')"
   ]
  },
  {
   "cell_type": "code",
   "execution_count": 49,
   "metadata": {},
   "outputs": [],
   "source": [
    "exp = list(map(lambda x: np.argmax(x), y_test_pic))\n",
    "pred = list(map(lambda x: np.argmax(x), predicted))"
   ]
  },
  {
   "cell_type": "code",
   "execution_count": 50,
   "metadata": {},
   "outputs": [
    {
     "name": "stdout",
     "output_type": "stream",
     "text": [
      "              precision    recall  f1-score   support\n",
      "\n",
      "           0       0.71      0.83      0.77         6\n",
      "           1       0.33      0.40      0.36         5\n",
      "           2       0.86      1.00      0.92         6\n",
      "           3       0.62      1.00      0.77         5\n",
      "           4       1.00      0.83      0.91         6\n",
      "           5       0.86      1.00      0.92         6\n",
      "           6       0.71      1.00      0.83         5\n",
      "           7       0.80      0.80      0.80         5\n",
      "           8       0.71      0.83      0.77         6\n",
      "           9       1.00      1.00      1.00         6\n",
      "          10       1.00      1.00      1.00         6\n",
      "          11       0.86      1.00      0.92         6\n",
      "          12       0.86      1.00      0.92         6\n",
      "          13       1.00      1.00      1.00         5\n",
      "          14       1.00      1.00      1.00         6\n",
      "          15       1.00      1.00      1.00         6\n",
      "          16       1.00      0.50      0.67         6\n",
      "          17       1.00      1.00      1.00         6\n",
      "          18       0.38      0.60      0.46         5\n",
      "          19       1.00      0.60      0.75         5\n",
      "          20       0.83      1.00      0.91         5\n",
      "          21       1.00      1.00      1.00         5\n",
      "          22       0.83      1.00      0.91         5\n",
      "          23       1.00      0.80      0.89         5\n",
      "          24       0.75      0.60      0.67         5\n",
      "          25       1.00      0.80      0.89         5\n",
      "          26       1.00      0.60      0.75         5\n",
      "          27       0.86      1.00      0.92         6\n",
      "          28       0.67      0.33      0.44         6\n",
      "          29       1.00      1.00      1.00         6\n",
      "          30       1.00      1.00      1.00         6\n",
      "          31       0.57      0.67      0.62         6\n",
      "          32       0.67      0.80      0.73         5\n",
      "          33       1.00      0.67      0.80         6\n",
      "          34       1.00      0.60      0.75         5\n",
      "          35       0.83      0.83      0.83         6\n",
      "          36       0.67      0.80      0.73         5\n",
      "          37       0.86      1.00      0.92         6\n",
      "          38       0.83      0.83      0.83         6\n",
      "          39       1.00      1.00      1.00         6\n",
      "          40       1.00      0.83      0.91         6\n",
      "          41       0.80      0.67      0.73         6\n",
      "          42       0.60      0.60      0.60         5\n",
      "          43       0.83      1.00      0.91         5\n",
      "          44       0.75      0.60      0.67         5\n",
      "          45       0.80      0.80      0.80         5\n",
      "          46       1.00      0.80      0.89         5\n",
      "          47       0.40      0.33      0.36         6\n",
      "          48       0.83      1.00      0.91         5\n",
      "          49       0.75      0.50      0.60         6\n",
      "          50       1.00      1.00      1.00         5\n",
      "          51       0.83      1.00      0.91         5\n",
      "          52       0.83      0.83      0.83         6\n",
      "          53       0.75      0.50      0.60         6\n",
      "          54       0.57      0.80      0.67         5\n",
      "          55       0.75      0.60      0.67         5\n",
      "          56       1.00      1.00      1.00         5\n",
      "          57       0.50      0.60      0.55         5\n",
      "          58       0.67      0.67      0.67         6\n",
      "          59       0.67      1.00      0.80         6\n",
      "          60       0.80      0.80      0.80         5\n",
      "          61       0.50      0.20      0.29         5\n",
      "\n",
      "    accuracy                           0.81       341\n",
      "   macro avg       0.82      0.80      0.80       341\n",
      "weighted avg       0.82      0.81      0.80       341\n",
      "\n"
     ]
    }
   ],
   "source": [
    "print(metrics.classification_report(exp, pred))"
   ]
  },
  {
   "cell_type": "code",
   "execution_count": 59,
   "metadata": {},
   "outputs": [
    {
     "data": {
      "text/plain": [
       "<AxesSubplot:>"
      ]
     },
     "execution_count": 59,
     "metadata": {},
     "output_type": "execute_result"
    },
    {
     "data": {
      "image/png": "[encoded data removed]",
      "text/plain": [
       "<Figure size 2880x2016 with 2 Axes>"
      ]
     },
     "metadata": {
      "needs_background": "light"
     },
     "output_type": "display_data"
    }
   ],
   "source": [
    "matrix = metrics.confusion_matrix(exp, pred)\n",
    "plt.figure(figsize = (40,28))\n",
    "sn.heatmap(matrix)"
   ]
  }
 ],
 "metadata": {
  "interpreter": {
   "hash": "679ca3d7e10d4fea823e60e28cb6f57bfb034a2481868839314afba603aaea83"
  },
  "kernelspec": {
   "display_name": "Python 3.8.5 ('base')",
   "language": "python",
   "name": "python3"
  },
  "language_info": {
   "codemirror_mode": {
    "name": "ipython",
    "version": 3
   },
   "file_extension": ".py",
   "mimetype": "text/x-python",
   "name": "python",
   "nbconvert_exporter": "python",
   "pygments_lexer": "ipython3",
   "version": "3.8.5"
  },
  "orig_nbformat": 4
 },
 "nbformat": 4,
 "nbformat_minor": 2
}
